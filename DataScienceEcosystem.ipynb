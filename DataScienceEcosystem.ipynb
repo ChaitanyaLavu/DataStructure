{
 "cells": [
  {
   "cell_type": "markdown",
   "id": "ee6ec0be-3faf-4b9a-a90e-c1bf5ca1691d",
   "metadata": {},
   "source": [
    "# Data Science Tools and Ecosystem"
   ]
  },
  {
   "cell_type": "markdown",
   "id": "23a9e5c6-957b-420a-a0c8-180f2e558af2",
   "metadata": {
    "tags": []
   },
   "source": [
    "In this notebook, Data Science Tools and Ecosystem are summarized."
   ]
  },
  {
   "cell_type": "markdown",
   "id": "d390546d-2c08-459e-ae98-0ccbe205620b",
   "metadata": {},
   "source": [
    "## Objectives\n",
    "### List popular languages for Data Science\n",
    "- python\n",
    "- C\n",
    "- C++\n",
    "- JAVA"
   ]
  },
  {
   "cell_type": "markdown",
   "id": "6431668e-09c1-47ab-b631-aee930e3e997",
   "metadata": {
    "tags": []
   },
   "source": [
    "Some of the popular languages that Data Scientists use are:\n",
    "1. Python\n",
    "2. C\n",
    "3. C++\n",
    "4. JAVA"
   ]
  },
  {
   "cell_type": "markdown",
   "id": "00dc6cb4-1cbd-4fe9-b050-5eedf84503fb",
   "metadata": {},
   "source": [
    "Some of the commonly used libraries used by Data Scientists include:\n",
    "1. Pandas\n",
    "2. Numpy\n",
    "3. Tensorflow"
   ]
  },
  {
   "cell_type": "markdown",
   "id": "4d034082-c66c-4a8b-8dd3-88e62b33647a",
   "metadata": {},
   "source": [
    "|Data Science Tools |\n",
    "| -------------|\n",
    "| Apache Spark |\n",
    "| Tableau |\n",
    "| KNIME |"
   ]
  },
  {
   "cell_type": "markdown",
   "id": "c8906529-040a-44fe-879e-548a7af06e28",
   "metadata": {},
   "source": [
    "### Below are a few examples of evaluating arithmetic expressions in Python.\n"
   ]
  },
  {
   "cell_type": "code",
   "execution_count": 11,
   "id": "e39141e6-4ba8-41b9-8222-a0a2dd92b0e3",
   "metadata": {
    "tags": []
   },
   "outputs": [
    {
     "data": {
      "text/plain": [
       "17"
      ]
     },
     "execution_count": 11,
     "metadata": {},
     "output_type": "execute_result"
    }
   ],
   "source": [
    "(3*4)+5\n",
    "#This a simple arithmetic expression to mutiply then add integers"
   ]
  },
  {
   "cell_type": "code",
   "execution_count": 12,
   "id": "715cef0b-abd4-4f8f-8045-5f94ec0ed8d2",
   "metadata": {
    "tags": []
   },
   "outputs": [
    {
     "data": {
      "text/plain": [
       "3.3333333333333335"
      ]
     },
     "execution_count": 12,
     "metadata": {},
     "output_type": "execute_result"
    }
   ],
   "source": [
    "#This will convert 200 minutes to hours by diving by 60.\n",
    "minute = 200\n",
    "hours = minute/60\n",
    "\n",
    "hours"
   ]
  },
  {
   "cell_type": "markdown",
   "id": "bed51877-062d-4318-8a30-2cca03a34026",
   "metadata": {},
   "source": [
    "## Author\n",
    "Chaitanya"
   ]
  }
 ],
 "metadata": {
  "kernelspec": {
   "display_name": "Python",
   "language": "python",
   "name": "conda-env-python-py"
  },
  "language_info": {
   "codemirror_mode": {
    "name": "ipython",
    "version": 3
   },
   "file_extension": ".py",
   "mimetype": "text/x-python",
   "name": "python",
   "nbconvert_exporter": "python",
   "pygments_lexer": "ipython3",
   "version": "3.7.12"
  }
 },
 "nbformat": 4,
 "nbformat_minor": 5
}
